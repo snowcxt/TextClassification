{
 "cells": [
  {
   "cell_type": "markdown",
   "metadata": {},
   "source": [
    "# Print classifier result"
   ]
  },
  {
   "cell_type": "code",
   "execution_count": 1,
   "metadata": {
    "collapsed": true
   },
   "outputs": [],
   "source": [
    "from time import time\n",
    "from sklearn.utils.extmath import density\n",
    "from sklearn import metrics\n",
    "\n",
    "results = []\n",
    "\n",
    "\n",
    "# Benchmark classifiers\n",
    "def benchmark(clf, name):\n",
    "    print('_' * 80)\n",
    "    print(\"Training: \")\n",
    "    print(clf)\n",
    "    t0 = time()\n",
    "    clf.fit(X_train, y_train)\n",
    "    train_time = time() - t0\n",
    "    print(\"train time: %0.3fs\" % train_time)\n",
    "    \n",
    "    joblib.dump(clf, name + '.pkl') \n",
    "    \n",
    "    t0 = time()\n",
    "    pred = clf.predict(X_test)\n",
    "    test_time = time() - t0\n",
    "    print(\"test time:  %0.3fs\" % test_time)\n",
    "\n",
    "    score = metrics.accuracy_score(y_test, pred)\n",
    "    print(\"accuracy:   %0.3f\" % score)\n",
    "    \n",
    "    feature_names = vectorizer.get_feature_names()\n",
    "\n",
    "    if hasattr(clf, 'coef_'):\n",
    "        print(\"dimensionality: %d\" % clf.coef_.shape[1])\n",
    "        print(\"density: %f\" % density(clf.coef_))\n",
    "        print()\n",
    "    \n",
    "    print(\"classification report:\")\n",
    "    print(metrics.classification_report(y_test, pred,\n",
    "                                        target_names=target_names))\n",
    "\n",
    "\n",
    "    print(\"confusion matrix:\")\n",
    "    print(metrics.confusion_matrix(y_test, pred))\n",
    "\n",
    "    print()\n",
    "    clf_descr = str(clf).split('(')[0]\n",
    "    results.append([clf_descr, score, train_time, test_time])"
   ]
  },
  {
   "cell_type": "markdown",
   "metadata": {},
   "source": [
    "# Prepare training & testing data"
   ]
  },
  {
   "cell_type": "code",
   "execution_count": 2,
   "metadata": {},
   "outputs": [
    {
     "name": "stdout",
     "output_type": "stream",
     "text": [
      "11314 documents - 13.782MB (training set)\n",
      "7532 documents - 8.262MB (test set)\n",
      "\n",
      "categories:  ['alt.atheism', 'comp.graphics', 'comp.os.ms-windows.misc', 'comp.sys.ibm.pc.hardware', 'comp.sys.mac.hardware', 'comp.windows.x', 'misc.forsale', 'rec.autos', 'rec.motorcycles', 'rec.sport.baseball', 'rec.sport.hockey', 'sci.crypt', 'sci.electronics', 'sci.med', 'sci.space', 'soc.religion.christian', 'talk.politics.guns', 'talk.politics.mideast', 'talk.politics.misc', 'talk.religion.misc']\n",
      "\n"
     ]
    }
   ],
   "source": [
    "from sklearn.datasets import fetch_20newsgroups\n",
    "from sklearn.externals import joblib\n",
    "\n",
    "categories = None\n",
    "remove = ('headers', 'footers', 'quotes')\n",
    "    \n",
    "data_train = fetch_20newsgroups(subset='train', categories=categories,\n",
    "                                shuffle=True, random_state=42,\n",
    "                                remove=remove)\n",
    "\n",
    "data_test = fetch_20newsgroups(subset='test', categories=categories,\n",
    "                               shuffle=True, random_state=42,\n",
    "                               remove=remove)\n",
    "# split a training set and a test set\n",
    "y_train, y_test = data_train.target, data_test.target\n",
    "\n",
    "target_names = data_train.target_names\n",
    "joblib.dump(target_names, 'categories.pkl') \n",
    "\n",
    "def size_mb(docs):\n",
    "    return sum(len(s.encode('utf-8')) for s in docs) / 1e6\n",
    "\n",
    "data_train_size_mb = size_mb(data_train.data)\n",
    "data_test_size_mb = size_mb(data_test.data)\n",
    "\n",
    "print(\"%d documents - %0.3fMB (training set)\" % (\n",
    "    len(data_train.data), data_train_size_mb))\n",
    "print(\"%d documents - %0.3fMB (test set)\" % (\n",
    "    len(data_test.data), data_test_size_mb))\n",
    "print()\n",
    "\n",
    "print(\"categories: \", target_names)\n",
    "print()"
   ]
  },
  {
   "cell_type": "markdown",
   "metadata": {},
   "source": [
    "# Generate vectorizer"
   ]
  },
  {
   "cell_type": "code",
   "execution_count": 3,
   "metadata": {},
   "outputs": [
    {
     "name": "stdout",
     "output_type": "stream",
     "text": [
      "Extracting features from the training data using a sparse vectorizer\n",
      "n_samples: 11314, n_features: 101322\n",
      "\n",
      "n_samples: 7532, n_features: 101322\n",
      "\n"
     ]
    }
   ],
   "source": [
    "from sklearn.feature_extraction.text import TfidfVectorizer\n",
    "from sklearn.externals import joblib\n",
    "\n",
    "print(\"Extracting features from the training data using a sparse vectorizer\")\n",
    "\n",
    "vectorizer = TfidfVectorizer(sublinear_tf=True, max_df=0.5,\n",
    "                             stop_words='english')\n",
    "X_train = vectorizer.fit_transform(data_train.data)\n",
    "\n",
    "\n",
    "joblib.dump(vectorizer, 'vectorizer.pkl')\n",
    "\n",
    "print(\"n_samples: %d, n_features: %d\" % X_train.shape)\n",
    "print()\n",
    "\n",
    "\n",
    "X_test = vectorizer.transform(data_test.data)\n",
    "\n",
    "print(\"n_samples: %d, n_features: %d\" % X_test.shape)\n",
    "print()"
   ]
  },
  {
   "cell_type": "markdown",
   "metadata": {},
   "source": [
    "# Naive Bayes"
   ]
  },
  {
   "cell_type": "code",
   "execution_count": 4,
   "metadata": {},
   "outputs": [
    {
     "name": "stdout",
     "output_type": "stream",
     "text": [
      "________________________________________________________________________________\n",
      "Training: \n",
      "MultinomialNB(alpha=0.01, class_prior=None, fit_prior=True)\n",
      "train time: 0.103s\n",
      "test time:  0.020s\n",
      "accuracy:   0.696\n",
      "dimensionality: 101322\n",
      "density: 1.000000\n",
      "\n",
      "classification report:\n",
      "                          precision    recall  f1-score   support\n",
      "\n",
      "             alt.atheism       0.56      0.43      0.49       319\n",
      "           comp.graphics       0.65      0.71      0.68       389\n",
      " comp.os.ms-windows.misc       0.75      0.46      0.57       394\n",
      "comp.sys.ibm.pc.hardware       0.59      0.72      0.65       392\n",
      "   comp.sys.mac.hardware       0.71      0.69      0.70       385\n",
      "          comp.windows.x       0.79      0.75      0.77       395\n",
      "            misc.forsale       0.81      0.72      0.76       390\n",
      "               rec.autos       0.76      0.72      0.74       396\n",
      "         rec.motorcycles       0.76      0.73      0.74       398\n",
      "      rec.sport.baseball       0.94      0.81      0.87       397\n",
      "        rec.sport.hockey       0.59      0.93      0.72       399\n",
      "               sci.crypt       0.72      0.76      0.74       396\n",
      "         sci.electronics       0.74      0.60      0.66       393\n",
      "                 sci.med       0.84      0.77      0.80       396\n",
      "               sci.space       0.75      0.80      0.78       394\n",
      "  soc.religion.christian       0.59      0.86      0.70       398\n",
      "      talk.politics.guns       0.56      0.72      0.63       364\n",
      "   talk.politics.mideast       0.81      0.80      0.80       376\n",
      "      talk.politics.misc       0.56      0.44      0.49       310\n",
      "      talk.religion.misc       0.47      0.21      0.29       251\n",
      "\n",
      "             avg / total       0.70      0.70      0.69      7532\n",
      "\n",
      "confusion matrix:\n",
      "[[138   1   2   2   2   2   0   3   3   2  12   3   0   3  10  74  13  12\n",
      "   12  25]\n",
      " [  2 278   6  17  15  24   6   0   5   3   6  13   2   0   9   2   0   1\n",
      "    0   0]\n",
      " [  4  30 181  73  16  30   4   2   5   0  16  12   3   2   8   1   0   1\n",
      "    3   3]\n",
      " [  0  13  20 284  29   4  10   2   0   0   8   5  16   0   0   0   0   0\n",
      "    1   0]\n",
      " [  0  11   8  32 265   5   8   7   2   0  14   7  13   2   6   2   1   1\n",
      "    1   0]\n",
      " [  0  46   9   9   7 297   1   0   0   1   7   5   5   3   4   0   1   0\n",
      "    0   0]\n",
      " [  1   4   1  32  18   0 281  14   7   3  11   1   7   2   4   1   1   0\n",
      "    2   0]\n",
      " [  1   1   1   1   1   0   9 285  31   1  25   4  10   1   6   3   4   3\n",
      "    9   0]\n",
      " [  8   3   1   0   2   3   7  26 290   1  15   0   8   3   6   3  11   3\n",
      "    7   1]\n",
      " [  5   2   0   0   0   1   6   0   4 322  34   4   1   3   2   3   5   1\n",
      "    4   0]\n",
      " [  5   0   0   0   0   1   0   1   3   3 373   3   0   2   2   4   2   0\n",
      "    0   0]\n",
      " [  1   9   6   3   4   2   1   0   3   2  18 301   3   1   5   3  20   4\n",
      "    9   1]\n",
      " [  1  11   6  27  12   0  10  11   6   1  11  33 237  11  10   2   0   2\n",
      "    2   0]\n",
      " [  4   5   0   1   0   0   3   7   4   0  15   0   5 304  11  17   9   4\n",
      "    5   2]\n",
      " [  4   6   1   1   0   2   1   6   2   1  18   2   5   4 317   5   3   7\n",
      "    8   1]\n",
      " [  8   3   0   1   1   2   0   1   1   1  15   1   0   2   1 343   4   0\n",
      "    3  11]\n",
      " [  5   0   0   0   0   1   1   3   5   1  12  11   1   5   8  11 262   8\n",
      "   16  14]\n",
      " [ 11   3   0   1   0   1   0   2   4   2   9   2   0   0   1  14  10 299\n",
      "   17   0]\n",
      " [ 14   2   0   0   0   3   1   4   3   0   8   6   2   7   8   8  94  12\n",
      "  136   2]\n",
      " [ 34   3   0   1   0   0   0   2   4   0   8   4   2   7   5  87  25   9\n",
      "    7  53]]\n",
      "\n"
     ]
    }
   ],
   "source": [
    "from sklearn.naive_bayes import MultinomialNB\n",
    "benchmark(MultinomialNB(alpha=.01), 'MultinomialNB')"
   ]
  },
  {
   "cell_type": "markdown",
   "metadata": {},
   "source": [
    "# Linear Support Vector Classification"
   ]
  },
  {
   "cell_type": "code",
   "execution_count": 5,
   "metadata": {},
   "outputs": [
    {
     "name": "stdout",
     "output_type": "stream",
     "text": [
      "________________________________________________________________________________\n",
      "Training: \n",
      "Pipeline(memory=None,\n",
      "     steps=[('feature_selection', SelectFromModel(estimator=LinearSVC(C=1.0, class_weight=None, dual=False, fit_intercept=True,\n",
      "     intercept_scaling=1, loss='squared_hinge', max_iter=1000,\n",
      "     multi_class='ovr', penalty='l1', random_state=None, tol=0.001,\n",
      "     verbose=0),\n",
      "        norm_order=1, prefit=...ax_iter=1000,\n",
      "     multi_class='ovr', penalty='l2', random_state=None, tol=0.0001,\n",
      "     verbose=0))])\n",
      "train time: 4.401s\n",
      "test time:  0.045s\n",
      "accuracy:   0.681\n",
      "classification report:\n",
      "                          precision    recall  f1-score   support\n",
      "\n",
      "             alt.atheism       0.52      0.47      0.49       319\n",
      "           comp.graphics       0.65      0.70      0.68       389\n",
      " comp.os.ms-windows.misc       0.65      0.64      0.65       394\n",
      "comp.sys.ibm.pc.hardware       0.63      0.65      0.64       392\n",
      "   comp.sys.mac.hardware       0.72      0.69      0.70       385\n",
      "          comp.windows.x       0.82      0.69      0.75       395\n",
      "            misc.forsale       0.76      0.78      0.77       390\n",
      "               rec.autos       0.74      0.69      0.71       396\n",
      "         rec.motorcycles       0.78      0.73      0.75       398\n",
      "      rec.sport.baseball       0.52      0.82      0.64       397\n",
      "        rec.sport.hockey       0.87      0.86      0.87       399\n",
      "               sci.crypt       0.82      0.71      0.76       396\n",
      "         sci.electronics       0.60      0.56      0.58       393\n",
      "                 sci.med       0.76      0.76      0.76       396\n",
      "               sci.space       0.74      0.72      0.73       394\n",
      "  soc.religion.christian       0.62      0.78      0.69       398\n",
      "      talk.politics.guns       0.58      0.63      0.61       364\n",
      "   talk.politics.mideast       0.82      0.73      0.77       376\n",
      "      talk.politics.misc       0.53      0.47      0.50       310\n",
      "      talk.religion.misc       0.39      0.27      0.32       251\n",
      "\n",
      "             avg / total       0.69      0.68      0.68      7532\n",
      "\n",
      "confusion matrix:\n",
      "[[149   2   3   2   1   0   5   3   3  11   2   1   8   9  10  54   6  11\n",
      "    9  30]\n",
      " [  3 273  22   9   8  23   6   2   2  11   1   8   7   3   8   2   0   0\n",
      "    0   1]\n",
      " [  3  21 253  34  14   9   2   2   2  16   3   4   1   7   9   3   2   1\n",
      "    7   1]\n",
      " [  0  12  32 255  26   6  11   0   0  10   2   4  28   0   2   0   0   0\n",
      "    2   2]\n",
      " [  1   9   8  25 266   4  15   3   3  16   1   3  18   3   5   2   2   0\n",
      "    0   1]\n",
      " [  2  40  33   7   5 274   1   2   3   9   0   3   4   1   4   1   1   2\n",
      "    1   2]\n",
      " [  1   5   2  13  17   1 304   7   3  10   1   1   9   2   2   3   4   2\n",
      "    1   2]\n",
      " [  3   4   3   3   4   1  10 275  19  30   3   1  16   1   6   2   3   5\n",
      "    6   1]\n",
      " [  3   2   2   2   2   0   4  24 290  25   3   1  12   4   6   4   3   1\n",
      "    8   2]\n",
      " [  1   3   0   3   0   1   7   3   5 326  23   1   2   5   4   5   1   2\n",
      "    5   0]\n",
      " [  2   1   2   1   1   0   0   2   3  25 344   1   0   3   0   3   5   0\n",
      "    2   4]\n",
      " [  5   5   7   4   4   3   5   2   3  18   1 283  10   5   5   3  16   3\n",
      "    9   5]\n",
      " [  4  10   7  31  15   7  14  14  10  15   4  13 222   8   7   2   3   2\n",
      "    3   2]\n",
      " [  8   8   3   2   1   0   3   9   3  17   2   0   5 302   7  10   3   6\n",
      "    5   2]\n",
      " [  4   9   5   2   4   0   4   7   7  20   2   1  16  10 284   2   5   1\n",
      "   10   1]\n",
      " [ 25   2   2   3   0   1   3   0   1  14   0   2   3   5   2 311   0   2\n",
      "    5  17]\n",
      " [  6   5   2   3   1   1   3   8   6  14   0  11   0   7   8   8 230  10\n",
      "   26  15]\n",
      " [ 26   1   2   2   0   1   2   2   3  13   1   3   2   2   3   8   7 274\n",
      "   18   6]\n",
      " [ 13   1   1   0   0   0   1   5   4  11   2   3   4   8   8   2  85   5\n",
      "  146  11]\n",
      " [ 26   4   1   3   3   1   2   4   1  12   0   1   3  10   4  74  18   6\n",
      "   10  68]]\n",
      "\n"
     ]
    }
   ],
   "source": [
    "from sklearn.pipeline import Pipeline\n",
    "from sklearn.feature_selection import SelectFromModel\n",
    "from sklearn.svm import LinearSVC\n",
    "\n",
    "benchmark(Pipeline([\n",
    "  ('feature_selection', SelectFromModel(LinearSVC(penalty=\"l1\", dual=False,\n",
    "                                                  tol=1e-3))),\n",
    "  ('classification', LinearSVC(penalty=\"l2\"))]), 'LinearSVC')"
   ]
  },
  {
   "cell_type": "markdown",
   "metadata": {},
   "source": [
    "# Make some plots"
   ]
  },
  {
   "cell_type": "code",
   "execution_count": 6,
   "metadata": {},
   "outputs": [
    {
     "data": {
      "image/png": "[encoded data removed]",
      "text/plain": [
       "<matplotlib.figure.Figure at 0x85e3def2e8>"
      ]
     },
     "metadata": {},
     "output_type": "display_data"
    }
   ],
   "source": [
    "# make some plots\n",
    "\n",
    "import numpy as np\n",
    "import matplotlib.pyplot as plt\n",
    "\n",
    "\n",
    "indices = np.arange(len(results))\n",
    "\n",
    "results = [[x[i] for x in results] for i in range(4)]\n",
    "\n",
    "clf_names, score, training_time, test_time = results\n",
    "training_time = np.array(training_time) / np.max(training_time)\n",
    "test_time = np.array(test_time) / np.max(test_time)\n",
    "\n",
    "plt.figure(figsize=(12, 8))\n",
    "plt.title(\"Score\")\n",
    "plt.barh(indices, score, .2, label=\"score\", color='navy')\n",
    "plt.barh(indices + .3, training_time, .2, label=\"training time\",\n",
    "         color='c')\n",
    "plt.barh(indices + .6, test_time, .2, label=\"test time\", color='darkorange')\n",
    "plt.yticks(())\n",
    "plt.legend(loc='best')\n",
    "plt.subplots_adjust(left=.25)\n",
    "plt.subplots_adjust(top=.95)\n",
    "plt.subplots_adjust(bottom=.05)\n",
    "\n",
    "for i, c in zip(indices, clf_names):\n",
    "    plt.text(-.3, i, c)\n",
    "\n",
    "plt.show()"
   ]
  },
  {
   "cell_type": "code",
   "execution_count": null,
   "metadata": {
    "collapsed": true
   },
   "outputs": [],
   "source": []
  }
 ],
 "metadata": {
  "kernelspec": {
   "display_name": "Python 3",
   "language": "python",
   "name": "python3"
  },
  "language_info": {
   "codemirror_mode": {
    "name": "ipython",
    "version": 3
   },
   "file_extension": ".py",
   "mimetype": "text/x-python",
   "name": "python",
   "nbconvert_exporter": "python",
   "pygments_lexer": "ipython3",
   "version": "3.6.2"
  }
 },
 "nbformat": 4,
 "nbformat_minor": 2
}
