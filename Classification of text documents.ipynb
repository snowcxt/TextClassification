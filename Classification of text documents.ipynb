{
 "cells": [
  {
   "cell_type": "markdown",
   "metadata": {},
   "source": [
    "# Print classifier result"
   ]
  },
  {
   "cell_type": "code",
   "execution_count": 1,
   "metadata": {
    "collapsed": true
   },
   "outputs": [],
   "source": [
    "from time import time\n",
    "from sklearn.utils.extmath import density\n",
    "from sklearn import metrics\n",
    "\n",
    "results = []\n",
    "\n",
    "\n",
    "# Benchmark classifiers\n",
    "def benchmark(clf, name):\n",
    "    print(\"Training: \")\n",
    "    print(clf)\n",
    "    t0 = time()\n",
    "    clf.fit(X_train, y_train)\n",
    "    train_time = time() - t0\n",
    "    print(\"train time: %0.3fs\" % train_time)\n",
    "    \n",
    "    joblib.dump(clf, 'models/' + name + '.pkl') \n",
    "    \n",
    "    t0 = time()\n",
    "    pred = clf.predict(X_test)\n",
    "    test_time = time() - t0\n",
    "    print(\"test time:  %0.3fs\" % test_time)\n",
    "\n",
    "    score = metrics.accuracy_score(y_test, pred)\n",
    "    print(\"accuracy:   %0.3f\" % score)\n",
    "    \n",
    "    feature_names = vectorizer.get_feature_names()\n",
    "\n",
    "    if hasattr(clf, 'coef_'):\n",
    "        print(\"dimensionality: %d\" % clf.coef_.shape[1])\n",
    "        print(\"density: %f\" % density(clf.coef_))\n",
    "        print()\n",
    "    \n",
    "    print(\"classification report:\")\n",
    "    print(metrics.classification_report(y_test, pred,\n",
    "                                        target_names=target_names))\n",
    "\n",
    "\n",
    "#     print(\"confusion matrix:\")\n",
    "#     print(metrics.confusion_matrix(y_test, pred))\n",
    "\n",
    "    print()\n",
    "    clf_descr = str(clf).split('(')[0]\n",
    "    results.append([clf_descr, score, train_time, test_time])"
   ]
  },
  {
   "cell_type": "markdown",
   "metadata": {},
   "source": [
    "# Prepare training & testing data"
   ]
  },
  {
   "cell_type": "code",
   "execution_count": 2,
   "metadata": {},
   "outputs": [
    {
     "name": "stdout",
     "output_type": "stream",
     "text": [
      "11314 documents - 22.055MB (training set)\n",
      "7532 documents - 13.801MB (test set)\n",
      "\n",
      "categories:  ['alt.atheism', 'comp.graphics', 'comp.os.ms-windows.misc', 'comp.sys.ibm.pc.hardware', 'comp.sys.mac.hardware', 'comp.windows.x', 'misc.forsale', 'rec.autos', 'rec.motorcycles', 'rec.sport.baseball', 'rec.sport.hockey', 'sci.crypt', 'sci.electronics', 'sci.med', 'sci.space', 'soc.religion.christian', 'talk.politics.guns', 'talk.politics.mideast', 'talk.politics.misc', 'talk.religion.misc']\n",
      "\n"
     ]
    }
   ],
   "source": [
    "from sklearn.datasets import fetch_20newsgroups\n",
    "from sklearn.externals import joblib\n",
    "\n",
    "categories = None\n",
    "#remove = ('headers', 'footers', 'quotes')\n",
    "remove = ()\n",
    "    \n",
    "data_train = fetch_20newsgroups(subset='train', categories=categories,\n",
    "                                shuffle=True, random_state=42,\n",
    "                                remove=remove)\n",
    "\n",
    "data_test = fetch_20newsgroups(subset='test', categories=categories,\n",
    "                               shuffle=True, random_state=42,\n",
    "                               remove=remove)\n",
    "# split a training set and a test set\n",
    "y_train, y_test = data_train.target, data_test.target\n",
    "\n",
    "target_names = data_train.target_names\n",
    "joblib.dump(target_names, 'categories.pkl') \n",
    "\n",
    "def size_mb(docs):\n",
    "    return sum(len(s.encode('utf-8')) for s in docs) / 1e6\n",
    "\n",
    "data_train_size_mb = size_mb(data_train.data)\n",
    "data_test_size_mb = size_mb(data_test.data)\n",
    "\n",
    "print(\"%d documents - %0.3fMB (training set)\" % (\n",
    "    len(data_train.data), data_train_size_mb))\n",
    "print(\"%d documents - %0.3fMB (test set)\" % (\n",
    "    len(data_test.data), data_test_size_mb))\n",
    "print()\n",
    "\n",
    "print(\"categories: \", target_names)\n",
    "print()"
   ]
  },
  {
   "cell_type": "markdown",
   "metadata": {},
   "source": [
    "# Generate vectorizer"
   ]
  },
  {
   "cell_type": "code",
   "execution_count": 3,
   "metadata": {},
   "outputs": [
    {
     "name": "stdout",
     "output_type": "stream",
     "text": [
      "Extracting features from the training data using a sparse vectorizer\n",
      "n_samples: 11314, n_features: 129791\n",
      "\n",
      "n_samples: 7532, n_features: 129791\n",
      "\n"
     ]
    }
   ],
   "source": [
    "from sklearn.feature_extraction.text import TfidfVectorizer\n",
    "from sklearn.externals import joblib\n",
    "\n",
    "print(\"Extracting features from the training data using a sparse vectorizer\")\n",
    "\n",
    "vectorizer = TfidfVectorizer(sublinear_tf=True, max_df=0.5,\n",
    "                             stop_words='english')\n",
    "X_train = vectorizer.fit_transform(data_train.data)\n",
    "\n",
    "\n",
    "joblib.dump(vectorizer, 'vectorizer.pkl')\n",
    "\n",
    "print(\"n_samples: %d, n_features: %d\" % X_train.shape)\n",
    "print()\n",
    "\n",
    "\n",
    "X_test = vectorizer.transform(data_test.data)\n",
    "\n",
    "print(\"n_samples: %d, n_features: %d\" % X_test.shape)\n",
    "print()"
   ]
  },
  {
   "cell_type": "markdown",
   "metadata": {},
   "source": [
    "# Multinomial Naive Bayes\n",
    "The multinomial Naive Bayes classifier is suitable for classification with discrete features (e.g., word counts for text classification)."
   ]
  },
  {
   "cell_type": "code",
   "execution_count": 4,
   "metadata": {},
   "outputs": [
    {
     "name": "stdout",
     "output_type": "stream",
     "text": [
      "Training: \n",
      "MultinomialNB(alpha=0.01, class_prior=None, fit_prior=True)\n",
      "train time: 0.136s\n",
      "test time:  0.037s\n",
      "accuracy:   0.837\n",
      "dimensionality: 129791\n",
      "density: 1.000000\n",
      "\n",
      "classification report:\n",
      "                          precision    recall  f1-score   support\n",
      "\n",
      "             alt.atheism       0.83      0.80      0.81       319\n",
      "           comp.graphics       0.68      0.74      0.71       389\n",
      " comp.os.ms-windows.misc       0.77      0.59      0.67       394\n",
      "comp.sys.ibm.pc.hardware       0.66      0.77      0.71       392\n",
      "   comp.sys.mac.hardware       0.83      0.84      0.84       385\n",
      "          comp.windows.x       0.82      0.79      0.81       395\n",
      "            misc.forsale       0.81      0.79      0.80       390\n",
      "               rec.autos       0.90      0.91      0.91       396\n",
      "         rec.motorcycles       0.94      0.96      0.95       398\n",
      "      rec.sport.baseball       0.96      0.94      0.95       397\n",
      "        rec.sport.hockey       0.95      0.98      0.96       399\n",
      "               sci.crypt       0.87      0.93      0.90       396\n",
      "         sci.electronics       0.79      0.77      0.78       393\n",
      "                 sci.med       0.90      0.84      0.87       396\n",
      "               sci.space       0.87      0.92      0.89       394\n",
      "  soc.religion.christian       0.85      0.94      0.90       398\n",
      "      talk.politics.guns       0.76      0.91      0.83       364\n",
      "   talk.politics.mideast       0.97      0.94      0.96       376\n",
      "      talk.politics.misc       0.77      0.63      0.69       310\n",
      "      talk.religion.misc       0.77      0.63      0.69       251\n",
      "\n",
      "             avg / total       0.84      0.84      0.84      7532\n",
      "\n",
      "\n"
     ]
    }
   ],
   "source": [
    "from sklearn.naive_bayes import MultinomialNB\n",
    "benchmark(MultinomialNB(alpha=.01), 'MultinomialNB')"
   ]
  },
  {
   "cell_type": "markdown",
   "metadata": {},
   "source": [
    "# Bernoulli Naive Bayes\n",
    "BernoulliNB might perform better on some datasets, especially those with shorter documents. "
   ]
  },
  {
   "cell_type": "code",
   "execution_count": 5,
   "metadata": {},
   "outputs": [
    {
     "name": "stdout",
     "output_type": "stream",
     "text": [
      "Training: \n",
      "BernoulliNB(alpha=0.01, binarize=0.0, class_prior=None, fit_prior=True)\n",
      "train time: 0.156s\n",
      "test time:  0.124s\n",
      "accuracy:   0.771\n",
      "dimensionality: 129791\n",
      "density: 1.000000\n",
      "\n",
      "classification report:\n",
      "                          precision    recall  f1-score   support\n",
      "\n",
      "             alt.atheism       0.75      0.83      0.79       319\n",
      "           comp.graphics       0.55      0.74      0.63       389\n",
      " comp.os.ms-windows.misc       0.79      0.07      0.13       394\n",
      "comp.sys.ibm.pc.hardware       0.51      0.76      0.61       392\n",
      "   comp.sys.mac.hardware       0.66      0.83      0.74       385\n",
      "          comp.windows.x       0.80      0.71      0.75       395\n",
      "            misc.forsale       0.56      0.88      0.68       390\n",
      "               rec.autos       0.87      0.87      0.87       396\n",
      "         rec.motorcycles       0.90      0.94      0.92       398\n",
      "      rec.sport.baseball       0.96      0.90      0.93       397\n",
      "        rec.sport.hockey       0.97      0.92      0.95       399\n",
      "               sci.crypt       0.88      0.85      0.86       396\n",
      "         sci.electronics       0.70      0.73      0.72       393\n",
      "                 sci.med       0.91      0.71      0.80       396\n",
      "               sci.space       0.87      0.83      0.85       394\n",
      "  soc.religion.christian       0.90      0.89      0.90       398\n",
      "      talk.politics.guns       0.83      0.84      0.83       364\n",
      "   talk.politics.mideast       0.98      0.83      0.90       376\n",
      "      talk.politics.misc       0.74      0.59      0.66       310\n",
      "      talk.religion.misc       0.69      0.63      0.66       251\n",
      "\n",
      "             avg / total       0.80      0.77      0.76      7532\n",
      "\n",
      "\n"
     ]
    }
   ],
   "source": [
    "from sklearn.naive_bayes import BernoulliNB\n",
    "\n",
    "benchmark(BernoulliNB(alpha=.01), 'BernoulliNB')"
   ]
  },
  {
   "cell_type": "markdown",
   "metadata": {},
   "source": [
    "# Linear Support Vector Classification"
   ]
  },
  {
   "cell_type": "code",
   "execution_count": 6,
   "metadata": {},
   "outputs": [
    {
     "name": "stdout",
     "output_type": "stream",
     "text": [
      "Training: \n",
      "Pipeline(memory=None,\n",
      "     steps=[('feature_selection', SelectFromModel(estimator=LinearSVC(C=1.0, class_weight=None, dual=False, fit_intercept=True,\n",
      "     intercept_scaling=1, loss='squared_hinge', max_iter=1000,\n",
      "     multi_class='ovr', penalty='l1', random_state=None, tol=0.001,\n",
      "     verbose=0),\n",
      "        norm_order=1, prefit=...ax_iter=1000,\n",
      "     multi_class='ovr', penalty='l2', random_state=None, tol=0.0001,\n",
      "     verbose=0))])\n",
      "train time: 7.105s\n",
      "test time:  0.035s\n",
      "accuracy:   0.842\n",
      "classification report:\n",
      "                          precision    recall  f1-score   support\n",
      "\n",
      "             alt.atheism       0.78      0.78      0.78       319\n",
      "           comp.graphics       0.74      0.78      0.76       389\n",
      " comp.os.ms-windows.misc       0.79      0.78      0.79       394\n",
      "comp.sys.ibm.pc.hardware       0.72      0.75      0.74       392\n",
      "   comp.sys.mac.hardware       0.81      0.83      0.82       385\n",
      "          comp.windows.x       0.86      0.76      0.81       395\n",
      "            misc.forsale       0.83      0.89      0.86       390\n",
      "               rec.autos       0.90      0.90      0.90       396\n",
      "         rec.motorcycles       0.94      0.94      0.94       398\n",
      "      rec.sport.baseball       0.93      0.93      0.93       397\n",
      "        rec.sport.hockey       0.96      0.97      0.96       399\n",
      "               sci.crypt       0.92      0.93      0.93       396\n",
      "         sci.electronics       0.78      0.75      0.76       393\n",
      "                 sci.med       0.88      0.87      0.88       396\n",
      "               sci.space       0.88      0.93      0.91       394\n",
      "  soc.religion.christian       0.85      0.92      0.89       398\n",
      "      talk.politics.guns       0.72      0.92      0.81       364\n",
      "   talk.politics.mideast       0.96      0.86      0.91       376\n",
      "      talk.politics.misc       0.82      0.59      0.68       310\n",
      "      talk.religion.misc       0.71      0.59      0.64       251\n",
      "\n",
      "             avg / total       0.84      0.84      0.84      7532\n",
      "\n",
      "\n"
     ]
    }
   ],
   "source": [
    "from sklearn.pipeline import Pipeline\n",
    "from sklearn.feature_selection import SelectFromModel\n",
    "from sklearn.svm import LinearSVC\n",
    "\n",
    "benchmark(Pipeline([\n",
    "  ('feature_selection', SelectFromModel(LinearSVC(penalty=\"l1\", dual=False,\n",
    "                                                  tol=1e-3))),\n",
    "  ('classification', LinearSVC(penalty=\"l2\"))]), 'LinearSVC')"
   ]
  },
  {
   "cell_type": "markdown",
   "metadata": {},
   "source": [
    "# Make some plots"
   ]
  },
  {
   "cell_type": "code",
   "execution_count": 7,
   "metadata": {},
   "outputs": [
    {
     "data": {
      "image/png": "[encoded data removed]",
      "text/plain": [
       "<matplotlib.figure.Figure at 0xd9f30f84a8>"
      ]
     },
     "metadata": {},
     "output_type": "display_data"
    }
   ],
   "source": [
    "# make some plots\n",
    "\n",
    "import numpy as np\n",
    "import matplotlib.pyplot as plt\n",
    "\n",
    "\n",
    "indices = np.arange(len(results))\n",
    "\n",
    "results = [[x[i] for x in results] for i in range(4)]\n",
    "\n",
    "clf_names, score, training_time, test_time = results\n",
    "training_time = np.array(training_time) / np.max(training_time)\n",
    "test_time = np.array(test_time) / np.max(test_time)\n",
    "\n",
    "plt.figure(figsize=(12, 8))\n",
    "plt.title(\"Score\")\n",
    "plt.barh(indices, score, .2, label=\"score\", color='navy')\n",
    "plt.barh(indices + .3, training_time, .2, label=\"training time\",\n",
    "         color='c')\n",
    "plt.barh(indices + .6, test_time, .2, label=\"test time\", color='darkorange')\n",
    "plt.yticks(())\n",
    "plt.legend(loc='best')\n",
    "plt.subplots_adjust(left=.25)\n",
    "plt.subplots_adjust(top=.95)\n",
    "plt.subplots_adjust(bottom=.05)\n",
    "\n",
    "for i, c in zip(indices, clf_names):\n",
    "    plt.text(-.3, i, c)\n",
    "\n",
    "plt.show()"
   ]
  }
 ],
 "metadata": {
  "kernelspec": {
   "display_name": "Python 3",
   "language": "python",
   "name": "python3"
  },
  "language_info": {
   "codemirror_mode": {
    "name": "ipython",
    "version": 3
   },
   "file_extension": ".py",
   "mimetype": "text/x-python",
   "name": "python",
   "nbconvert_exporter": "python",
   "pygments_lexer": "ipython3",
   "version": "3.6.2"
  }
 },
 "nbformat": 4,
 "nbformat_minor": 2
}
